{
 "cells": [
  {
   "cell_type": "code",
   "execution_count": 34,
   "metadata": {},
   "outputs": [],
   "source": [
    "from tkinter import *\n",
    "import matplotlib.pyplot as plt\n",
    "from matplotlib.backends.backend_tkagg import (FigureCanvasTkAgg,  \n",
    "NavigationToolbar2Tk) "
   ]
  },
  {
   "cell_type": "code",
   "execution_count": 35,
   "metadata": {
    "scrolled": false
   },
   "outputs": [],
   "source": [
    "# plot function is created for  \n",
    "# plotting the graph in  \n",
    "# tkinter window \n",
    "def plot(): \n",
    "  \n",
    "    # the figure that will contain the plot \n",
    "    fig = plt.Figure(figsize = (8, 5), \n",
    "                 dpi = 200) \n",
    "  \n",
    "    # list of squares \n",
    "    x = []\n",
    "    y = [100]\n",
    "    is_even = True\n",
    "    for i in range(24*60):\n",
    "        if is_even:\n",
    "            x.append(i)\n",
    "            is_even = False\n",
    "            y.append(y[-1] + 0.01)\n",
    "        else:\n",
    "            is_even = True\n",
    "    y.pop(-1)\n",
    "    # [0, 1, 4, 9, 16, 25, 36]\n",
    "  \n",
    "    # adding the subplot \n",
    "    plot1 = fig.add_subplot(111) \n",
    "  \n",
    "    # plotting the graph \n",
    "    plot1.plot(x, y)\n",
    "    \n",
    "    # creating the Tkinter canvas \n",
    "    # containing the Matplotlib figure \n",
    "    canvas = FigureCanvasTkAgg(fig, \n",
    "                               master = window)   \n",
    "    canvas.draw() \n",
    "  \n",
    "    # placing the canvas on the Tkinter window \n",
    "    canvas.get_tk_widget().pack() \n",
    "  \n",
    "    # creating the Matplotlib toolbar \n",
    "    toolbar = NavigationToolbar2Tk(canvas, \n",
    "                                   window) \n",
    "    toolbar.update() \n",
    "  \n",
    "    # placing the toolbar on the Tkinter window \n",
    "    canvas.get_tk_widget().pack() \n",
    "  \n",
    "# the main Tkinter window \n",
    "window = Tk() \n",
    "  \n",
    "# setting the title  \n",
    "window.title('Plotting in Tkinter') \n",
    "  \n",
    "# dimensions of the main window \n",
    "window.geometry(\"960x1080\") \n",
    "  \n",
    "# button that displays the plot \n",
    "plot_button = Button(master = window,  \n",
    "                     command = plot, \n",
    "                     height = 2,  \n",
    "                     width = 10, \n",
    "                     text = \"Plot\") \n",
    "  \n",
    "# place the button  \n",
    "# in main window \n",
    "plot_button.pack() \n",
    "  \n",
    "# run the gui \n",
    "window.mainloop()"
   ]
  }
 ],
 "metadata": {
  "kernelspec": {
   "display_name": "Python 3",
   "language": "python",
   "name": "python3"
  },
  "language_info": {
   "codemirror_mode": {
    "name": "ipython",
    "version": 3
   },
   "file_extension": ".py",
   "mimetype": "text/x-python",
   "name": "python",
   "nbconvert_exporter": "python",
   "pygments_lexer": "ipython3",
   "version": "3.8.3"
  }
 },
 "nbformat": 4,
 "nbformat_minor": 4
}
